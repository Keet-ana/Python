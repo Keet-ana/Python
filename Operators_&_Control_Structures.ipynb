{
  "nbformat": 4,
  "nbformat_minor": 0,
  "metadata": {
    "colab": {
      "provenance": [],
      "authorship_tag": "ABX9TyPHFTqUI7pPs2gWgDAmEMCF",
      "include_colab_link": true
    },
    "kernelspec": {
      "name": "python3",
      "display_name": "Python 3"
    },
    "language_info": {
      "name": "python"
    }
  },
  "cells": [
    {
      "cell_type": "markdown",
      "metadata": {
        "id": "view-in-github",
        "colab_type": "text"
      },
      "source": [
        "<a href=\"https://colab.research.google.com/github/Keet-ana/Python/blob/Python/Operators_%26_Control_Structures.ipynb\" target=\"_parent\"><img src=\"https://colab.research.google.com/assets/colab-badge.svg\" alt=\"Open In Colab\"/></a>"
      ]
    },
    {
      "cell_type": "markdown",
      "source": [
        "# Operators & Conditional Statements\n",
        "(IF, ELIF, ELSE)\n"
      ],
      "metadata": {
        "id": "8rau7Glu2d-G"
      }
    },
    {
      "cell_type": "markdown",
      "source": [
        "**Problem Statement:** Create a Python program that calculates and displays the performance category based on the score input by the user. The program should determine the performance category using conditional statements and operators."
      ],
      "metadata": {
        "id": "CHQ36LSj2jxh"
      }
    },
    {
      "cell_type": "markdown",
      "source": [
        "Step wise Instructions:\n",
        "\n",
        "1.\tPrompt user for Input. Score range should be from 0 to 10(both inclusive).\n",
        "2.\tFind the performance category based on the input score using following criteria:\n",
        "\n",
        "a.\tAbove Average:  Score greater than 7\n",
        "\n",
        "b.\tAverage: Score between 4 and 7(both inclusive)\n",
        "\n",
        "c.\tBelow Average: Score lesser than 4\n",
        "3. Output: Print the Performance category\n",
        "4. Additional Step: You can give a prompt of your choice to each category.\n",
        "For eg: If score below average “Need to Improve your performance, consistent practice will lead to better results”.\n",
        "\n"
      ],
      "metadata": {
        "id": "k4zyMuXEMLbo"
      }
    },
    {
      "cell_type": "markdown",
      "source": [
        "**Algorithm**\n",
        "\n",
        "1. Ask the user to enter their score between 0 and 10 using input().\n",
        "\n",
        "2. Convert the input into an integer using int().\n",
        "\n",
        "3. Check the Score Range:\n",
        "\n",
        "        Use an if-elif-else structure to evaluate the score:\n",
        "\n",
        "        If the score is greater than 7, print \"Above Average.\"\n",
        "\n",
        "        If the score is between 4 and 7 (inclusive), print \"Average.\"\n",
        "\n",
        "        If the score is less than 4, print \"Below Average.\"\n",
        "\n",
        "        If the score is invalid (not between 0 and 10), print an error message.\n",
        "\n",
        "4. Based on the conditions, provide appropriate feedback to the user."
      ],
      "metadata": {
        "id": "ECS84lTeLuiy"
      }
    },
    {
      "cell_type": "code",
      "execution_count": 2,
      "metadata": {
        "id": "bfh06IDFvZHN",
        "colab": {
          "base_uri": "https://localhost:8080/"
        },
        "outputId": "e9df2bbb-d6a8-449f-fd18-afce39170932"
      },
      "outputs": [
        {
          "output_type": "stream",
          "name": "stdout",
          "text": [
            "Enter your score (0 to 10): 7\n",
            "Average: Good effort! Keep practicing, there's room for improvement.\n"
          ]
        }
      ],
      "source": [
        "score = int(input(\"Enter your score (0 to 10): \"))\n",
        "if score > 7:\n",
        "    print(\"Above Average: Excellent work! Keep it up!\")\n",
        "elif 4 <= score <= 7:\n",
        "    print(\"Average: Good effort! Keep practicing, there's room for improvement.\")\n",
        "elif score < 4:\n",
        "    print(\"Below Average: Need to improve your performance. Consistent practice will lead to better results.\")\n",
        "else:\n",
        "    print(\"Invalid score. Please enter a number between 0 and 10.\")\n"
      ]
    },
    {
      "cell_type": "markdown",
      "source": [
        "# While loop & Control Statements\n",
        "(else, break, continue, pass)\n"
      ],
      "metadata": {
        "id": "e8bCM9Plv3qi"
      }
    },
    {
      "cell_type": "markdown",
      "source": [
        " **Number Guessing Game**\n",
        "\n",
        "**Problem Statement:** Create a Python program that implements a simple number guessing game using a while loop. The program should make use of control statements such as else, break, and continue.\n"
      ],
      "metadata": {
        "id": "hvjWThuk7MMI"
      }
    },
    {
      "cell_type": "markdown",
      "source": [
        "1.\tSet Up the Game:\n",
        "\n",
        "★\tGenerate a random number between 1 and 10 that the user has to guess. Import random and **use** randint function.\n"
      ],
      "metadata": {
        "id": "WGMGI4uS74-o"
      }
    },
    {
      "cell_type": "markdown",
      "source": [
        "2.\t**Prompt the User:**\n",
        "\n",
        "★\tAsk the user to guess the number.\n",
        "\n",
        "★\tSet a variable attempts to 3, which represents the maximum number of guesses allowed.\n"
      ],
      "metadata": {
        "id": "DxX-G6ep8J6X"
      }
    },
    {
      "cell_type": "markdown",
      "source": [
        "**3.\tImplement the Guessing Logic:**\n",
        "\n",
        "★\tUse a while loop to allow the user to keep guessing until they get the correct number or run out of attempts.\n",
        "\n",
        "★\tProvide feedback to the user for each guess:\n",
        "\n",
        "  ➢\tIf the guess is out of the valid range (1 to 10), inform the user.\n",
        "\n",
        "  ➢\tIf the guess is greater than the secret number.\n",
        "\n",
        "  ➢\tIf the guess is lower than the secret number.\n",
        "\n",
        "  ➢\tIf the guess is correct, congratulate the user and end the game.\n"
      ],
      "metadata": {
        "id": "OkL-Tjsg8eHa"
      }
    },
    {
      "cell_type": "markdown",
      "source": [
        "**4.\tControl Statements:**\n",
        "\n",
        "★\tUse continue to skip the rest of the loop after informing the user if the guess is out of range.\n",
        "\n",
        "★\tUse break to exit the loop when the guess is correct.\n",
        "\n",
        "★\tUse else with the while loop to provide a message like \"Better luck next time!\" if the user runs out of attempts without guessing the correct number.\n"
      ],
      "metadata": {
        "id": "2ByZD2OSG_Dt"
      }
    },
    {
      "cell_type": "markdown",
      "source": [
        "**Algorithm**\n",
        "\n",
        "1.   Import the random module to generate a random number.\n",
        "2.   Use random.randint(1, 10) to generate a random number between 1 and 10.\n",
        "3.   Set a variable attempts to 3 (maximum allowed guesses)\n",
        "4.   Use a while loop that continues as long as attempts > 0.\n",
        "5.   Ask the user to guess a number between 1 and 10.\n",
        "6.   If the guess is not between 1 and 10, notify the user and continue to the next iteration.\n",
        "7. Check Conditions:\n",
        "\n",
        "    Compare the guess with the secret number:\n",
        "\n",
        "*  If the guess is too low, print \"Too low.\"\n",
        "*   If the guess is too high, print \"Too high.\"\n",
        "*   If the guess is correct, congratulate the user and exit the loop (break).\n",
        "8.   Deduct 1 from the attempts variable after each valid guess.\n",
        "9.   End Condition:\n",
        "\n",
        "\n",
        "*   If the user guesses correctly, the loop breaks.\n",
        "*   If attempts reach 0, notify the user that they've run out of attempts and reveal the secret number.\n",
        "10.  Display a final message if the user didn't guess correctly within 3 attempts.\n",
        "\n",
        "\n",
        "\n",
        "\n",
        "\n",
        "\n",
        "\n",
        "\n",
        "\n",
        "\n",
        "\n"
      ],
      "metadata": {
        "id": "kR4Ee5UYJQXk"
      }
    },
    {
      "cell_type": "code",
      "source": [
        "import random\n",
        "secret_number = random.randint(1, 10)\n",
        "print(\"Welcome to the Number Guessing Game!\")\n",
        "print(\"I have picked a number between 1 and 10 ;). \\n Spoiler: It's not 42. You have 3 attempts to guess it. Good luck\")\n",
        "\n",
        "attempts = 3\n",
        "print(\"( •̀ᴗ•́ )و ̑̑ Remember, You have only three lives. ( •̀ᴗ•́ )و ̑̑ \")\n",
        "\n",
        "while attempts > 0:\n",
        "  guess = int(input(\"Take a guess (Between 1 - 10): \"))\n",
        "  if guess < 1 or guess > 10:\n",
        "    print(\"That's out of range. Stick to numbers between 1 and 10, please...\")\n",
        "    continue\n",
        "  attempts -= 1\n",
        "  if guess < secret_number:\n",
        "        print(\"Dang! ┐(´д｀)┌, Too low man! You couldn't hit the floor with that guess.\")\n",
        "  elif guess > secret_number:\n",
        "        print(\"Oops way too high! (´c_`) This isn't an astronomy class.\")\n",
        "  else:\n",
        "        print(\"Ding, ding, ding! ٩(◕‿◕｡)۶ (ﹷ _ ﹷ✿) We have a winner! You've guessed it right!\")\n",
        "        break\n",
        "  if attempts > 0:\n",
        "        print(f\" You have {attempts} attempt(s) left (ノಠ益ಠ)ノ彡┻━┻. Try harder, future legend!\")\n",
        "  else:\n",
        "        print(\"No more attempts left (◣_◢). The universe wins this round.\")\n",
        "\n",
        "else:\n",
        "    print(f\"Oh no ( ɵ̥̥‸ɵ̥̥)! That's the end :( /The number was {secret_number}. Better luck next time, superstar!\")\n",
        "\n"
      ],
      "metadata": {
        "colab": {
          "base_uri": "https://localhost:8080/"
        },
        "id": "7T4ZFnUe_qrS",
        "outputId": "a9455149-0da4-4c7b-91bf-254afabc04b4"
      },
      "execution_count": 17,
      "outputs": [
        {
          "output_type": "stream",
          "name": "stdout",
          "text": [
            "Welcome to the Number Guessing Game!\n",
            "I have picked a number between 1 and 10 ;). \n",
            " Spoiler: It's not 42. You have 3 attempts to guess it. Good luck\n",
            "( •̀ᴗ•́ )و ̑̑ Remember, You have only three lives. ( •̀ᴗ•́ )و ̑̑ \n",
            "Take a guess (Between 1 - 10): 3\n",
            "Dang! ┐(´д｀)┌, Too low man! You couldn't hit the floor with that guess.\n",
            " You have 2 attempt(s) left (ノಠ益ಠ)ノ彡┻━┻. Try harder, future legend!\n",
            "Take a guess (Between 1 - 10): 7\n",
            "Oops way too high! (´c_`) This isn't an astronomy class.\n",
            " You have 1 attempt(s) left (ノಠ益ಠ)ノ彡┻━┻. Try harder, future legend!\n",
            "Take a guess (Between 1 - 10): 9\n",
            "Oops way too high! (´c_`) This isn't an astronomy class.\n",
            "No more attempts left (◣_◢). The universe wins this round.\n",
            "Oh no ( ɵ̥̥‸ɵ̥̥)! That's the end :( /The number was 5. Better luck next time, superstar!\n"
          ]
        }
      ]
    }
  ]
}