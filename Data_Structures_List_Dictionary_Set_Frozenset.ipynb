{
  "nbformat": 4,
  "nbformat_minor": 0,
  "metadata": {
    "colab": {
      "provenance": [],
      "toc_visible": true,
      "authorship_tag": "ABX9TyNb16uED6FLYAi/W+xrnzaN",
      "include_colab_link": true
    },
    "kernelspec": {
      "name": "python3",
      "display_name": "Python 3"
    },
    "language_info": {
      "name": "python"
    }
  },
  "cells": [
    {
      "cell_type": "markdown",
      "metadata": {
        "id": "view-in-github",
        "colab_type": "text"
      },
      "source": [
        "<a href=\"https://colab.research.google.com/github/Keet-ana/Python/blob/Python/Data_Structures_List_Dictionary_Set_Frozenset.ipynb\" target=\"_parent\"><img src=\"https://colab.research.google.com/assets/colab-badge.svg\" alt=\"Open In Colab\"/></a>"
      ]
    },
    {
      "cell_type": "markdown",
      "source": [
        "# List (Creation, Modification and Access):"
      ],
      "metadata": {
        "id": "Lbr_17OwuwzQ"
      }
    },
    {
      "cell_type": "markdown",
      "source": [
        "\n",
        "1. List Creation:\n",
        "\n",
        "a.\tCreate a list named age_list with five integer elements. For eg., [24, 25, 26, 27, 28]\n",
        "\n",
        "\n",
        "\n"
      ],
      "metadata": {
        "id": "OQ-DPm8Vu5Fr"
      }
    },
    {
      "cell_type": "code",
      "source": [
        "age_list = [24,25,26,27,28]\n",
        "print(\"Initial age_list:\", age_list)"
      ],
      "metadata": {
        "colab": {
          "base_uri": "https://localhost:8080/"
        },
        "id": "2At9_v31lBOt",
        "outputId": "918699d7-f1f8-477d-b6a6-f7eada04029d"
      },
      "execution_count": 2,
      "outputs": [
        {
          "output_type": "stream",
          "name": "stdout",
          "text": [
            "Initial age_list: [24, 25, 26, 27, 28]\n"
          ]
        }
      ]
    },
    {
      "cell_type": "markdown",
      "source": [
        "\n",
        "b.\tCreate a list named name_list with five string elements."
      ],
      "metadata": {
        "id": "IKboHpZRlBsg"
      }
    },
    {
      "cell_type": "code",
      "source": [
        "name_list = [\"Akila\",\"Keerthi\",\"Surya\",\"Chandra\",\"Paula\"]\n",
        "print(\"Initial name_list:\", name_list)"
      ],
      "metadata": {
        "colab": {
          "base_uri": "https://localhost:8080/"
        },
        "id": "g73qrQQYlCom",
        "outputId": "8eccff1b-49bf-4bc0-f857-e73402a72673"
      },
      "execution_count": 3,
      "outputs": [
        {
          "output_type": "stream",
          "name": "stdout",
          "text": [
            "Initial name_list: ['Akila', 'Keerthi', 'Surya', 'Chandra', 'Paula']\n"
          ]
        }
      ]
    },
    {
      "cell_type": "markdown",
      "source": [
        "2. List Operations / Modifications:\n",
        "\n",
        "a.\tAppend the string \"Yazhini\" to name_list.\n",
        "\n",
        "\n"
      ],
      "metadata": {
        "id": "aj_is8BjkCy5"
      }
    },
    {
      "cell_type": "code",
      "source": [
        "name_list.append(\"Yazhini\")\n",
        "print(\"After appending 'Yazhini':\", name_list)"
      ],
      "metadata": {
        "colab": {
          "base_uri": "https://localhost:8080/"
        },
        "id": "0QJZEgw1mFrw",
        "outputId": "789c570a-8056-42ff-a1ec-55a0d12d3db8"
      },
      "execution_count": 4,
      "outputs": [
        {
          "output_type": "stream",
          "name": "stdout",
          "text": [
            "After appending 'Yazhini': ['Akila', 'Keerthi', 'Surya', 'Chandra', 'Paula', 'Yazhini']\n"
          ]
        }
      ]
    },
    {
      "cell_type": "markdown",
      "source": [
        "b.\tInsert the element 30 at index 2 in age_list.\n",
        "\n"
      ],
      "metadata": {
        "id": "QYBjKAxCmNAC"
      }
    },
    {
      "cell_type": "code",
      "source": [
        "age_list.insert(2, 30)\n",
        "print(\"After inserting 30 at index 2:\", age_list)"
      ],
      "metadata": {
        "colab": {
          "base_uri": "https://localhost:8080/"
        },
        "id": "wjpoYKP6mSmu",
        "outputId": "f6021c85-8471-4109-a2cc-a15e02707995"
      },
      "execution_count": 5,
      "outputs": [
        {
          "output_type": "stream",
          "name": "stdout",
          "text": [
            "After inserting 30 at index 2: [24, 25, 30, 26, 27, 28]\n"
          ]
        }
      ]
    },
    {
      "cell_type": "markdown",
      "source": [
        "c.\tRemove the string \"Yazhini\" from name_list.\n"
      ],
      "metadata": {
        "id": "JzyOFIirmP1D"
      }
    },
    {
      "cell_type": "code",
      "source": [
        "\n",
        "name_list.remove(\"Yazhini\")\n",
        "print(\"After removing 'Yazhini':\", name_list)"
      ],
      "metadata": {
        "colab": {
          "base_uri": "https://localhost:8080/"
        },
        "id": "yWw2-YtMmU2-",
        "outputId": "b1d239cc-9d90-41f9-c652-713eddf237f9"
      },
      "execution_count": 6,
      "outputs": [
        {
          "output_type": "stream",
          "name": "stdout",
          "text": [
            "After removing 'Yazhini': ['Akila', 'Keerthi', 'Surya', 'Chandra', 'Paula']\n"
          ]
        }
      ]
    },
    {
      "cell_type": "markdown",
      "source": [
        "d.\tPop the last element from age_list.\n"
      ],
      "metadata": {
        "id": "U4-lFmu0mVeB"
      }
    },
    {
      "cell_type": "code",
      "source": [
        "popped_age = age_list.pop()\n",
        "print(\"After popping last element:\", age_list, \"| Popped element:\", popped_age)"
      ],
      "metadata": {
        "colab": {
          "base_uri": "https://localhost:8080/"
        },
        "id": "ndYWQWAame6R",
        "outputId": "ff7816b4-4797-43c2-9338-8198737b1515"
      },
      "execution_count": 7,
      "outputs": [
        {
          "output_type": "stream",
          "name": "stdout",
          "text": [
            "After popping last element: [24, 25, 30, 26, 27] | Popped element: 28\n"
          ]
        }
      ]
    },
    {
      "cell_type": "markdown",
      "source": [
        "e.\tExtend the age_list with additional ages [29, 30, 26].\n"
      ],
      "metadata": {
        "id": "ryaMN-_bmfYf"
      }
    },
    {
      "cell_type": "code",
      "source": [
        "age_list.extend([29, 30, 26])\n",
        "print(\"After extending age_list:\", age_list)"
      ],
      "metadata": {
        "colab": {
          "base_uri": "https://localhost:8080/"
        },
        "id": "DI8f1NkQmi-t",
        "outputId": "4c09ffd8-1d60-4441-9a1b-efd54ae3c015"
      },
      "execution_count": 8,
      "outputs": [
        {
          "output_type": "stream",
          "name": "stdout",
          "text": [
            "After extending age_list: [24, 25, 30, 26, 27, 29, 30, 26]\n"
          ]
        }
      ]
    },
    {
      "cell_type": "markdown",
      "source": [
        "f.\tSort age_list in descending order.\n"
      ],
      "metadata": {
        "id": "L5mbY3Lzmjdi"
      }
    },
    {
      "cell_type": "code",
      "source": [
        "age_list.sort(reverse=True)\n",
        "print(\"Sorted age_list in descending order:\", age_list)"
      ],
      "metadata": {
        "colab": {
          "base_uri": "https://localhost:8080/"
        },
        "id": "u2BRBFNJmlXI",
        "outputId": "c70cd196-d734-40fb-fa79-5a6a60e1716b"
      },
      "execution_count": 9,
      "outputs": [
        {
          "output_type": "stream",
          "name": "stdout",
          "text": [
            "Sorted age_list in descending order: [30, 30, 29, 27, 26, 26, 25, 24]\n"
          ]
        }
      ]
    },
    {
      "cell_type": "markdown",
      "source": [
        "g.\tFind Max age, Min age and sum of all ages from age_list.\n"
      ],
      "metadata": {
        "id": "zoYx7kuTml5L"
      }
    },
    {
      "cell_type": "code",
      "source": [
        "print(\"Max age:\", max(age_list))\n",
        "print(\"Min age:\", min(age_list))\n",
        "print(\"Sum of all ages:\", sum(age_list))"
      ],
      "metadata": {
        "colab": {
          "base_uri": "https://localhost:8080/"
        },
        "id": "Xx7NKsHAmnd1",
        "outputId": "9535c14c-6674-45f6-ef6c-07fce0fa1d83"
      },
      "execution_count": 10,
      "outputs": [
        {
          "output_type": "stream",
          "name": "stdout",
          "text": [
            "Max age: 30\n",
            "Min age: 24\n",
            "Sum of all ages: 217\n"
          ]
        }
      ]
    },
    {
      "cell_type": "markdown",
      "source": [
        "h.\tMake a copy of age_list and store as age_list_copy\n"
      ],
      "metadata": {
        "id": "Nb1ihiUXmn0d"
      }
    },
    {
      "cell_type": "code",
      "source": [
        "age_list_copy = age_list.copy()\n",
        "print(\"Copy of age_list:\", age_list_copy)"
      ],
      "metadata": {
        "colab": {
          "base_uri": "https://localhost:8080/"
        },
        "id": "hZPKh-tvmp-S",
        "outputId": "0e06a916-fce2-4c07-9d58-12d6e210ddc2"
      },
      "execution_count": 11,
      "outputs": [
        {
          "output_type": "stream",
          "name": "stdout",
          "text": [
            "Copy of age_list: [30, 30, 29, 27, 26, 26, 25, 24]\n"
          ]
        }
      ]
    },
    {
      "cell_type": "markdown",
      "source": [
        "i.\tClear all elements from age_list_copy."
      ],
      "metadata": {
        "id": "_-ocoyjAmqau"
      }
    },
    {
      "cell_type": "code",
      "source": [
        "age_list_copy.clear()\n",
        "print(\"After clearing age_list_copy:\", age_list_copy)"
      ],
      "metadata": {
        "colab": {
          "base_uri": "https://localhost:8080/"
        },
        "id": "0YYZyedImrVe",
        "outputId": "e9954a45-a29d-41b1-9add-4fe897883fc5"
      },
      "execution_count": 12,
      "outputs": [
        {
          "output_type": "stream",
          "name": "stdout",
          "text": [
            "After clearing age_list_copy: []\n"
          ]
        }
      ]
    },
    {
      "cell_type": "markdown",
      "source": [
        "3. Accessing List Elements:\n",
        "\n",
        "a.\tPrint the first element of name_list.\n",
        "\n"
      ],
      "metadata": {
        "id": "Akyeeu6bnqVN"
      }
    },
    {
      "cell_type": "code",
      "source": [
        "print(\"First element of name_list:\", name_list[0])"
      ],
      "metadata": {
        "colab": {
          "base_uri": "https://localhost:8080/"
        },
        "id": "cdhiXiwXnsVh",
        "outputId": "a8b9e35d-bbf0-49df-a9e4-776c7acda86e"
      },
      "execution_count": 14,
      "outputs": [
        {
          "output_type": "stream",
          "name": "stdout",
          "text": [
            "First element of name_list: Akila\n"
          ]
        }
      ]
    },
    {
      "cell_type": "markdown",
      "source": [
        "b.\tPrint the last element of name_list."
      ],
      "metadata": {
        "id": "N-ohT3wFofyH"
      }
    },
    {
      "cell_type": "code",
      "source": [
        "print(\"Last element of name_list:\", name_list[-1])"
      ],
      "metadata": {
        "colab": {
          "base_uri": "https://localhost:8080/"
        },
        "id": "7B88gEjMolFb",
        "outputId": "b7135ece-511b-4f00-f452-1af2117f0778"
      },
      "execution_count": 15,
      "outputs": [
        {
          "output_type": "stream",
          "name": "stdout",
          "text": [
            "Last element of name_list: Paula\n"
          ]
        }
      ]
    },
    {
      "cell_type": "markdown",
      "source": [
        "\n",
        "c.\tPrint the elements from index 2 to index 4 in name_list.\n",
        "\n",
        "\n"
      ],
      "metadata": {
        "id": "AFoMT7tCnsrZ"
      }
    },
    {
      "cell_type": "code",
      "source": [
        "print(\"Elements from index 2 to index 4:\", name_list[2:5])"
      ],
      "metadata": {
        "colab": {
          "base_uri": "https://localhost:8080/"
        },
        "id": "XyO4rlZon5x2",
        "outputId": "357b1347-8284-4c93-d14e-d4b6da8c53be"
      },
      "execution_count": 16,
      "outputs": [
        {
          "output_type": "stream",
          "name": "stdout",
          "text": [
            "Elements from index 2 to index 4: ['Surya', 'Chandra', 'Paula']\n"
          ]
        }
      ]
    },
    {
      "cell_type": "markdown",
      "source": [
        "d.\tPrint the elements of name_list in reverse order.\n"
      ],
      "metadata": {
        "id": "RF4Oisytn6cP"
      }
    },
    {
      "cell_type": "code",
      "source": [
        "print(\"name_list in reverse order:\", name_list[::-1])"
      ],
      "metadata": {
        "colab": {
          "base_uri": "https://localhost:8080/"
        },
        "id": "Mf1uWyQ3n8OX",
        "outputId": "ba25b70e-e8cc-4ed9-9443-64f74014e474"
      },
      "execution_count": 17,
      "outputs": [
        {
          "output_type": "stream",
          "name": "stdout",
          "text": [
            "name_list in reverse order: ['Paula', 'Chandra', 'Surya', 'Keerthi', 'Akila']\n"
          ]
        }
      ]
    },
    {
      "cell_type": "markdown",
      "source": [
        "e.\tCreate a list called list_dup = [1, 2, 1, 1, 3, 1, 2, 5, 9, 1] and print the number of times element ‘1’ has occurred.\n"
      ],
      "metadata": {
        "id": "j01PPopCn8rd"
      }
    },
    {
      "cell_type": "code",
      "source": [
        "list_dup = [1, 2, 1, 1, 3, 1, 2, 5, 9, 1]\n",
        "print(\"Count of '1' in list_dup:\", list_dup.count(1))\n"
      ],
      "metadata": {
        "colab": {
          "base_uri": "https://localhost:8080/"
        },
        "id": "xrB3GGtnn-uG",
        "outputId": "9408ce28-6944-4ad4-a9c6-6c338a1684ba"
      },
      "execution_count": 18,
      "outputs": [
        {
          "output_type": "stream",
          "name": "stdout",
          "text": [
            "Count of '1' in list_dup: 5\n"
          ]
        }
      ]
    },
    {
      "cell_type": "markdown",
      "source": [
        "f.\tPrint length of list_dup."
      ],
      "metadata": {
        "id": "AmcIARfWn_N2"
      }
    },
    {
      "cell_type": "code",
      "source": [
        "print(\"Length of list_dup:\", len(list_dup))"
      ],
      "metadata": {
        "colab": {
          "base_uri": "https://localhost:8080/"
        },
        "id": "w1jNs_qCoANk",
        "outputId": "7c863d8f-8ada-41af-a2c9-c748ddb692b2"
      },
      "execution_count": 19,
      "outputs": [
        {
          "output_type": "stream",
          "name": "stdout",
          "text": [
            "Length of list_dup: 10\n"
          ]
        }
      ]
    },
    {
      "cell_type": "markdown",
      "source": [
        "# Dictionary (Creation, Modification and Access):"
      ],
      "metadata": {
        "id": "nSGjN9S-pdXk"
      }
    },
    {
      "cell_type": "markdown",
      "source": [
        "Dictionary Creation:\n",
        "\n",
        "a.\tCreate a dictionary named student_marks that maps the names of five students to their marks (use scale of from 0 to 100).\n",
        "\n"
      ],
      "metadata": {
        "id": "GUs2u1wdpj94"
      }
    },
    {
      "cell_type": "code",
      "source": [
        "student_marks = {\n",
        "    \"Ajay\": 85,\n",
        "    \"Bharathi\": 78,\n",
        "    \"Chandru\": 90,\n",
        "    \"Devi\": 88,\n",
        "    \"Elias\": 76\n",
        "}\n",
        "print(\"Student Marks Dictionary:\", student_marks)\n"
      ],
      "metadata": {
        "colab": {
          "base_uri": "https://localhost:8080/"
        },
        "id": "rr7liKmrpZ6a",
        "outputId": "70226e95-127a-4fd3-d692-4b568797cf14"
      },
      "execution_count": 20,
      "outputs": [
        {
          "output_type": "stream",
          "name": "stdout",
          "text": [
            "Student Marks Dictionary: {'Ajay': 85, 'Bharathi': 78, 'Chandru': 90, 'Devi': 88, 'Elias': 76}\n"
          ]
        }
      ]
    },
    {
      "cell_type": "markdown",
      "source": [
        "b.\tAccess and print the mark of a specific student, of your choice."
      ],
      "metadata": {
        "id": "X7cnLL7upaa1"
      }
    },
    {
      "cell_type": "code",
      "source": [
        "print(\"Mark of Chandru:\", student_marks[\"Chandru\"])"
      ],
      "metadata": {
        "colab": {
          "base_uri": "https://localhost:8080/"
        },
        "id": "oTxCqTNnp1vk",
        "outputId": "06c93284-ea44-4538-87be-600afa122e87"
      },
      "execution_count": 21,
      "outputs": [
        {
          "output_type": "stream",
          "name": "stdout",
          "text": [
            "Mark of Chandru: 90\n"
          ]
        }
      ]
    },
    {
      "cell_type": "markdown",
      "source": [
        "2. Dictionary Modifications & Access:\n",
        "\n",
        "a.\tAdd a new student \"Janani\" with a mark of 80 to the student_marks dictionary.\n",
        "\n"
      ],
      "metadata": {
        "id": "RVUj5MSSqXnB"
      }
    },
    {
      "cell_type": "code",
      "source": [
        "student_marks[\"Janani\"] = 80\n",
        "print(\"After adding 'Janani':\", student_marks)"
      ],
      "metadata": {
        "colab": {
          "base_uri": "https://localhost:8080/"
        },
        "id": "wiq7Rd6ZqfaZ",
        "outputId": "247eaea9-6f60-4766-e495-09ceaaf3b7f3"
      },
      "execution_count": 22,
      "outputs": [
        {
          "output_type": "stream",
          "name": "stdout",
          "text": [
            "After adding 'Janani': {'Ajay': 85, 'Bharathi': 78, 'Chandru': 90, 'Devi': 88, 'Elias': 76, 'Janani': 80}\n"
          ]
        }
      ]
    },
    {
      "cell_type": "markdown",
      "source": [
        "b.\tUpdate the mark of any one older student to 82.\n"
      ],
      "metadata": {
        "id": "I6Ao_cd3qf2E"
      }
    },
    {
      "cell_type": "code",
      "source": [
        "student_marks[\"Bharathi\"] = 82\n",
        "print(\"After updating Bharathi's mark:\", student_marks)"
      ],
      "metadata": {
        "colab": {
          "base_uri": "https://localhost:8080/"
        },
        "id": "UF-wHv5GqhYv",
        "outputId": "e006fe36-3fff-42af-9ef0-1fd6c4ef8089"
      },
      "execution_count": 23,
      "outputs": [
        {
          "output_type": "stream",
          "name": "stdout",
          "text": [
            "After updating Bharathi's mark: {'Ajay': 85, 'Bharathi': 82, 'Chandru': 90, 'Devi': 88, 'Elias': 76, 'Janani': 80}\n"
          ]
        }
      ]
    },
    {
      "cell_type": "markdown",
      "source": [
        "c.\tUse the keys(), values(), and items() methods to print all keys, values, and key-value pairs in the student_marks dictionary."
      ],
      "metadata": {
        "id": "obTs0A_Bqh2y"
      }
    },
    {
      "cell_type": "code",
      "source": [
        "print(\"Keys:\", list(student_marks.keys()))\n",
        "print(\"Values:\", list(student_marks.values()))\n",
        "print(\"Items:\", list(student_marks.items()))"
      ],
      "metadata": {
        "colab": {
          "base_uri": "https://localhost:8080/"
        },
        "id": "Sj37RNuzqmZw",
        "outputId": "a870f73d-46a5-4771-cf4f-96b561f252ef"
      },
      "execution_count": 24,
      "outputs": [
        {
          "output_type": "stream",
          "name": "stdout",
          "text": [
            "Keys: ['Ajay', 'Bharathi', 'Chandru', 'Devi', 'Elias', 'Janani']\n",
            "Values: [85, 82, 90, 88, 76, 80]\n",
            "Items: [('Ajay', 85), ('Bharathi', 82), ('Chandru', 90), ('Devi', 88), ('Elias', 76), ('Janani', 80)]\n"
          ]
        }
      ]
    },
    {
      "cell_type": "markdown",
      "source": [
        "#   Sets & Frozensets:"
      ],
      "metadata": {
        "id": "12I3lj7wsCzE"
      }
    },
    {
      "cell_type": "markdown",
      "source": [
        "1. Sets:\n",
        "\n",
        "a.\tCreate a set called my_set with following values:   \n",
        "\t['a','e','i','o','u','a','a','i']\n",
        "Analyse the output and provide explanation for the same.\n",
        "\n",
        "\n",
        "\n"
      ],
      "metadata": {
        "id": "0d070t7fsIOS"
      }
    },
    {
      "cell_type": "code",
      "source": [
        "my_set = {'a', 'e', 'i', 'o', 'u', 'a', 'a', 'i'}\n",
        "print(\"Created set (duplicates removed):\", my_set)"
      ],
      "metadata": {
        "colab": {
          "base_uri": "https://localhost:8080/"
        },
        "id": "aeXk_xMusPNu",
        "outputId": "109b2536-5f95-4865-c1ec-9fb124473477"
      },
      "execution_count": 25,
      "outputs": [
        {
          "output_type": "stream",
          "name": "stdout",
          "text": [
            "Created set (duplicates removed): {'e', 'a', 'i', 'o', 'u'}\n"
          ]
        }
      ]
    },
    {
      "cell_type": "markdown",
      "source": [
        "b.\tAttempt to change the value of my_set[4] = 's'. If code throws an error, provide an explanation.\n"
      ],
      "metadata": {
        "id": "Ab5r0QpFsPs-"
      }
    },
    {
      "cell_type": "code",
      "source": [
        "try:\n",
        "    my_set[4] = 's'   # Sets do not support indexing\n",
        "except TypeError as e:\n",
        "    print(\"Error:\", e)"
      ],
      "metadata": {
        "colab": {
          "base_uri": "https://localhost:8080/"
        },
        "id": "1XCyPoCvsRuV",
        "outputId": "48ac9b8a-02c5-4731-82a0-27aeae22c6cf"
      },
      "execution_count": 27,
      "outputs": [
        {
          "output_type": "stream",
          "name": "stdout",
          "text": [
            "Error: 'set' object does not support item assignment\n"
          ]
        }
      ]
    },
    {
      "cell_type": "markdown",
      "source": [
        "Sets are unordered collections, meaning elements are not stored in a specific order.\n",
        "Because of this, sets do not support indexing or direct modification of elements.\n",
        "If we try to access or modify an element using an index, Python raises a\n",
        "TypeError."
      ],
      "metadata": {
        "id": "MF7mSRjMtbOH"
      }
    },
    {
      "cell_type": "markdown",
      "source": [
        "c.\tCreate two sets:\n",
        "\tset1 with values: {1, 3, 5, 7, 9}\n",
        "\tset2 with values: {2, 3, 5, 8, 10}\n"
      ],
      "metadata": {
        "id": "gKpWB7yBsSHn"
      }
    },
    {
      "cell_type": "code",
      "source": [
        "set1 = {1, 3, 5, 7, 9}\n",
        "set2 = {2, 3, 5, 8, 10}\n",
        "print(\"set1 - \", set1)\n",
        "print(\"set2 - \",set2)"
      ],
      "metadata": {
        "colab": {
          "base_uri": "https://localhost:8080/"
        },
        "id": "Q4xf9ib7sT-y",
        "outputId": "0b7e5ce2-2203-405d-b4d2-6f1cd7c1966c"
      },
      "execution_count": 28,
      "outputs": [
        {
          "output_type": "stream",
          "name": "stdout",
          "text": [
            "set1 -  {1, 3, 5, 7, 9}\n",
            "set2 -  {2, 3, 5, 8, 10}\n"
          ]
        }
      ]
    },
    {
      "cell_type": "markdown",
      "source": [
        "d.\tCompute the union of set1 and set2, and print the result.\n"
      ],
      "metadata": {
        "id": "FdmczQ8csUkJ"
      }
    },
    {
      "cell_type": "code",
      "source": [
        "union_set = set1 | set2\n",
        "print(\"Union of set1 and set2:\", union_set)"
      ],
      "metadata": {
        "colab": {
          "base_uri": "https://localhost:8080/"
        },
        "id": "lK1yZ5iasXCx",
        "outputId": "fff19013-a769-4932-8f81-a0cfa821193a"
      },
      "execution_count": 29,
      "outputs": [
        {
          "output_type": "stream",
          "name": "stdout",
          "text": [
            "Union of set1 and set2: {1, 2, 3, 5, 7, 8, 9, 10}\n"
          ]
        }
      ]
    },
    {
      "cell_type": "markdown",
      "source": [
        "e.\tPerform an intersection operation between set1 and set2, and print the result."
      ],
      "metadata": {
        "id": "7ttQWL7IsXbx"
      }
    },
    {
      "cell_type": "code",
      "source": [
        "intersection_set = set1 & set2\n",
        "print(\"Intersection of set1 and set2:\", intersection_set)"
      ],
      "metadata": {
        "colab": {
          "base_uri": "https://localhost:8080/"
        },
        "id": "uPM31mEWsZ86",
        "outputId": "35017939-8954-4364-a705-d1135b1c3b05"
      },
      "execution_count": 30,
      "outputs": [
        {
          "output_type": "stream",
          "name": "stdout",
          "text": [
            "Intersection of set1 and set2: {3, 5}\n"
          ]
        }
      ]
    },
    {
      "cell_type": "markdown",
      "source": [
        "Frozensets:\n",
        "\n",
        "a.\tCreate a frozenset named immutable_set containing the integers: 1, 2, 3, 4, 5. Print the frozenset.\n",
        "\n"
      ],
      "metadata": {
        "id": "24dOF-44uDZK"
      }
    },
    {
      "cell_type": "code",
      "source": [
        "immutable_set = frozenset([1, 2, 3, 4, 5])\n",
        "print(\"Frozenset:\", immutable_set)"
      ],
      "metadata": {
        "colab": {
          "base_uri": "https://localhost:8080/"
        },
        "id": "XmYrV00NuJah",
        "outputId": "aed1dd69-91a7-486f-af1a-4bc978e74d4d"
      },
      "execution_count": 31,
      "outputs": [
        {
          "output_type": "stream",
          "name": "stdout",
          "text": [
            "Frozenset: frozenset({1, 2, 3, 4, 5})\n"
          ]
        }
      ]
    },
    {
      "cell_type": "markdown",
      "source": [
        "b.\tTry to add an element (e.g., 6) to the immutable_set frozenset. Observe and describe any exceptions that occur."
      ],
      "metadata": {
        "id": "5MlYuUGXuJ2h"
      }
    },
    {
      "cell_type": "code",
      "source": [
        "try:\n",
        "    immutable_set.add(6)\n",
        "except AttributeError as e:\n",
        "    print(\"Error:\", e)"
      ],
      "metadata": {
        "colab": {
          "base_uri": "https://localhost:8080/"
        },
        "id": "tsxrJNZfuLt9",
        "outputId": "341ca87e-7822-407f-ced5-6a874648b5b7"
      },
      "execution_count": 32,
      "outputs": [
        {
          "output_type": "stream",
          "name": "stdout",
          "text": [
            "Error: 'frozenset' object has no attribute 'add'\n"
          ]
        }
      ]
    },
    {
      "cell_type": "markdown",
      "source": [
        "Frozensets do not support adding new elements"
      ],
      "metadata": {
        "id": "Q3Mkob2-ukVE"
      }
    }
  ]
}