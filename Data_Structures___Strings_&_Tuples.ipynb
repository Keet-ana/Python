{
  "nbformat": 4,
  "nbformat_minor": 0,
  "metadata": {
    "colab": {
      "provenance": [],
      "authorship_tag": "ABX9TyNx3MNBPEr1ArrBD2p6NWrp",
      "include_colab_link": true
    },
    "kernelspec": {
      "name": "python3",
      "display_name": "Python 3"
    },
    "language_info": {
      "name": "python"
    }
  },
  "cells": [
    {
      "cell_type": "markdown",
      "metadata": {
        "id": "view-in-github",
        "colab_type": "text"
      },
      "source": [
        "<a href=\"https://colab.research.google.com/github/Keet-ana/Python/blob/Python/Data_Structures___Strings_%26_Tuples.ipynb\" target=\"_parent\"><img src=\"https://colab.research.google.com/assets/colab-badge.svg\" alt=\"Open In Colab\"/></a>"
      ]
    },
    {
      "cell_type": "markdown",
      "source": [
        "**1. String Concatenation:**\n",
        "A program that takes two strings i.e string 1 “Hello”, string 2 get name as input from the user and concatenates them together. Displaying the concatenated string as the output.\n",
        "\n"
      ],
      "metadata": {
        "id": "o6hTowRvagXs"
      }
    },
    {
      "cell_type": "code",
      "source": [
        "#String Concatenation\n",
        "greeting = \"Hello \"\n",
        "name = input(\"Enter your Name: \")\n",
        "full_greeting = greeting + name\n",
        "print(full_greeting)"
      ],
      "metadata": {
        "colab": {
          "base_uri": "https://localhost:8080/"
        },
        "id": "17bw3crKaztF",
        "outputId": "fd5a14f1-3af9-400a-d5b3-f5175cdddf23"
      },
      "execution_count": null,
      "outputs": [
        {
          "output_type": "stream",
          "name": "stdout",
          "text": [
            "Enter your Name: Ann\n",
            "Hello Ann\n"
          ]
        }
      ]
    },
    {
      "cell_type": "markdown",
      "source": [
        "Concatenating string 3 “, Welcome to Python programming” to the existing string and display the output string."
      ],
      "metadata": {
        "id": "Sm1-qRXAb8sc"
      }
    },
    {
      "cell_type": "code",
      "source": [
        "full_greeting += \", Welcome to Python programming\"\n",
        "print(full_greeting)"
      ],
      "metadata": {
        "colab": {
          "base_uri": "https://localhost:8080/"
        },
        "id": "fgpXghwwcQ9y",
        "outputId": "9ea7c76d-129b-4156-9db3-39f936b11ce8"
      },
      "execution_count": null,
      "outputs": [
        {
          "output_type": "stream",
          "name": "stdout",
          "text": [
            "Hello Ann, Welcome to Python programming\n"
          ]
        }
      ]
    },
    {
      "cell_type": "markdown",
      "source": [
        "**2. String Slicing and Indexing:**\n",
        "a Python program using the above concatenated string as input and performs the following tasks:\n",
        "\n",
        "a.\tPrint the first character of the string."
      ],
      "metadata": {
        "id": "nEjkvauDcmYJ"
      }
    },
    {
      "cell_type": "code",
      "source": [
        "print(\"First character:\", full_greeting[0]) #First Character"
      ],
      "metadata": {
        "colab": {
          "base_uri": "https://localhost:8080/"
        },
        "id": "Knf1WbbrdIeG",
        "outputId": "b95f67d2-abc5-43ca-9242-c989b1d5dab4"
      },
      "execution_count": null,
      "outputs": [
        {
          "output_type": "stream",
          "name": "stdout",
          "text": [
            "First character: H\n"
          ]
        }
      ]
    },
    {
      "cell_type": "markdown",
      "source": [
        "b.\tPrint the last character of the string.\n",
        "\n"
      ],
      "metadata": {
        "id": "JcYe-rvhdZmv"
      }
    },
    {
      "cell_type": "code",
      "source": [
        "print(\"Last Character:\", full_greeting[-1])"
      ],
      "metadata": {
        "colab": {
          "base_uri": "https://localhost:8080/"
        },
        "id": "FRyx3eMwdkMR",
        "outputId": "f0e334a5-d0aa-4de3-e48d-c6affe97058f"
      },
      "execution_count": null,
      "outputs": [
        {
          "output_type": "stream",
          "name": "stdout",
          "text": [
            "Last Character: g\n"
          ]
        }
      ]
    },
    {
      "cell_type": "markdown",
      "source": [
        "c.\tPrint the first 5 characters of the string.\n"
      ],
      "metadata": {
        "id": "OCsOpkNLdvOs"
      }
    },
    {
      "cell_type": "code",
      "source": [
        "print(\"First 5 Charcters:\", full_greeting[:5])"
      ],
      "metadata": {
        "colab": {
          "base_uri": "https://localhost:8080/"
        },
        "id": "awU0UTGvdxwg",
        "outputId": "0061c485-0ae6-4680-fb30-8a964cc759c2"
      },
      "execution_count": null,
      "outputs": [
        {
          "output_type": "stream",
          "name": "stdout",
          "text": [
            "Fifth Charcter: Hello\n"
          ]
        }
      ]
    },
    {
      "cell_type": "markdown",
      "source": [
        "d.\tPrint the last 11 characters of the string.\n"
      ],
      "metadata": {
        "id": "arBJ1WpDdyMc"
      }
    },
    {
      "cell_type": "code",
      "source": [
        "print(\"Last 11 Characters:\",full_greeting[-11:])"
      ],
      "metadata": {
        "colab": {
          "base_uri": "https://localhost:8080/"
        },
        "id": "qduB0A8Wf9H0",
        "outputId": "6e1453a5-63e8-4fe2-a976-357341ca5218"
      },
      "execution_count": null,
      "outputs": [
        {
          "output_type": "stream",
          "name": "stdout",
          "text": [
            "Last 11 Characters: programming\n"
          ]
        }
      ]
    },
    {
      "cell_type": "markdown",
      "source": [
        "e.\tPrint the string in reverse.\n"
      ],
      "metadata": {
        "id": "_yHtE9jbf-sz"
      }
    },
    {
      "cell_type": "code",
      "source": [
        "print(\"String in Reverse:\", full_greeting[::-1])"
      ],
      "metadata": {
        "colab": {
          "base_uri": "https://localhost:8080/"
        },
        "id": "0Qm2jEfagCxs",
        "outputId": "e4cf862c-3566-471d-dec3-11a67e9907f0"
      },
      "execution_count": null,
      "outputs": [
        {
          "output_type": "stream",
          "name": "stdout",
          "text": [
            "String in Reverse: gnimmargorp nohtyP ot emocleW ,nnA olleH\n"
          ]
        }
      ]
    },
    {
      "cell_type": "markdown",
      "source": [
        "f.\tUse slicing and print the word “Python” from the existing string."
      ],
      "metadata": {
        "id": "s9YQc01rgDql"
      }
    },
    {
      "cell_type": "code",
      "source": [
        "print(\"Extracted word 'Python':\", full_greeting[full_greeting.find(\"Python\"):full_greeting.find(\"Python\") + 6])"
      ],
      "metadata": {
        "colab": {
          "base_uri": "https://localhost:8080/"
        },
        "id": "wQ4kfCAngEkc",
        "outputId": "9e2adabe-419e-419d-ce06-c4ca7699bfa4"
      },
      "execution_count": null,
      "outputs": [
        {
          "output_type": "stream",
          "name": "stdout",
          "text": [
            "Extracted word 'Python': Python\n"
          ]
        }
      ]
    },
    {
      "cell_type": "code",
      "source": [
        "#Breakdown for Extracted Word \"Python\"\n",
        "start_index = full_greeting.find(\"Python\")  # 23\n",
        "end_index = start_index + 6  # 29\n",
        "extracted_word = full_greeting[start_index:end_index]\n",
        "print(\"Extracted word 'Python':\", extracted_word)"
      ],
      "metadata": {
        "colab": {
          "base_uri": "https://localhost:8080/"
        },
        "id": "36-XNUq1jORc",
        "outputId": "05759aba-7c9a-4781-af6e-536df665ba95"
      },
      "execution_count": null,
      "outputs": [
        {
          "output_type": "stream",
          "name": "stdout",
          "text": [
            "Extracted word 'Python': Python\n"
          ]
        }
      ]
    },
    {
      "cell_type": "markdown",
      "source": [
        "**3. String Methods:**\n",
        "Write a Python program that takes a string, strM = “Python beginner tutorial” and perform the following tasks:\n",
        "\n"
      ],
      "metadata": {
        "id": "0hXkGVpSjgNR"
      }
    },
    {
      "cell_type": "code",
      "source": [
        "strM = \"Python beginner tutorial\""
      ],
      "metadata": {
        "id": "da2FgSJXjwIW"
      },
      "execution_count": null,
      "outputs": []
    },
    {
      "cell_type": "markdown",
      "source": [
        "a.\tConvert the sentence to uppercase."
      ],
      "metadata": {
        "id": "heJf7zNSkfLt"
      }
    },
    {
      "cell_type": "code",
      "source": [
        "print(\"Uppercase:\", strM.upper())"
      ],
      "metadata": {
        "colab": {
          "base_uri": "https://localhost:8080/"
        },
        "id": "nbUqlgcMkghS",
        "outputId": "1f12a419-28e3-4c01-cdd6-c49dfe002b9b"
      },
      "execution_count": null,
      "outputs": [
        {
          "output_type": "stream",
          "name": "stdout",
          "text": [
            "Uppercase: PYTHON BEGINNER TUTORIAL\n"
          ]
        }
      ]
    },
    {
      "cell_type": "markdown",
      "source": [
        "b.\tConvert the sentence to lowercase.\n"
      ],
      "metadata": {
        "id": "MNFQedAEjwmt"
      }
    },
    {
      "cell_type": "code",
      "source": [
        "print(\"Lowercase:\", strM.lower())"
      ],
      "metadata": {
        "colab": {
          "base_uri": "https://localhost:8080/"
        },
        "id": "lp8RLv0vjzsW",
        "outputId": "f5ba986d-0562-4c6a-f00b-2cce5d9c243a"
      },
      "execution_count": null,
      "outputs": [
        {
          "output_type": "stream",
          "name": "stdout",
          "text": [
            "Lowercase: python beginner tutorial\n"
          ]
        }
      ]
    },
    {
      "cell_type": "markdown",
      "source": [
        "c.\tUse Capitalize and return the sentence to the original input form.\n",
        "\n"
      ],
      "metadata": {
        "id": "N8CrDs5ej0PP"
      }
    },
    {
      "cell_type": "code",
      "source": [
        "print(\"Capitalize:\", strM.capitalize())"
      ],
      "metadata": {
        "colab": {
          "base_uri": "https://localhost:8080/"
        },
        "id": "wdi8Yt-Zj26P",
        "outputId": "65fce2be-f3bd-4840-bf0a-9eebd296386c"
      },
      "execution_count": null,
      "outputs": [
        {
          "output_type": "stream",
          "name": "stdout",
          "text": [
            "Capitalize: Python beginner tutorial\n"
          ]
        }
      ]
    },
    {
      "cell_type": "markdown",
      "source": [
        "d.\tCount the total number of occurrences of character ‘t’  in the string.\n"
      ],
      "metadata": {
        "id": "lt-L_FQ8j3bx"
      }
    },
    {
      "cell_type": "code",
      "source": [
        "print(\"Occurence of character t:\", strM.count('t'))"
      ],
      "metadata": {
        "colab": {
          "base_uri": "https://localhost:8080/"
        },
        "id": "a3Cyszw4j6cZ",
        "outputId": "da1cfcee-46fb-4c1d-e62a-f63d3f95a7bb"
      },
      "execution_count": null,
      "outputs": [
        {
          "output_type": "stream",
          "name": "stdout",
          "text": [
            "Occurence of character t: 3\n"
          ]
        }
      ]
    },
    {
      "cell_type": "markdown",
      "source": [
        "e.\tReplace all occurrences of “Python” with “Machine Learning”  in the input string strM = “Python beginner tutorial”"
      ],
      "metadata": {
        "id": "VJcUaHw9j6_I"
      }
    },
    {
      "cell_type": "code",
      "source": [
        "print(\"Replace Python into Machine learning:\", strM.replace(\"Python\",\"Machine Learning\") )"
      ],
      "metadata": {
        "colab": {
          "base_uri": "https://localhost:8080/"
        },
        "id": "eGy10ozej9AM",
        "outputId": "f1badcb3-e6ea-487d-83b4-d66e730905d3"
      },
      "execution_count": null,
      "outputs": [
        {
          "output_type": "stream",
          "name": "stdout",
          "text": [
            "Replace Python into Machine learning: Machine Learning beginner tutorial\n"
          ]
        }
      ]
    },
    {
      "cell_type": "markdown",
      "source": [
        "**Tuples (Creation, Modification and Access) : **\n",
        "\n",
        "Create 1st tuple with values -> (10, 20, 30), 2nd tuple with values -> (40, 50, 60):\n",
        "\n",
        "\n"
      ],
      "metadata": {
        "id": "Sf6HKYT2qUUT"
      }
    },
    {
      "cell_type": "code",
      "source": [
        "T1=(10,20,30)\n",
        "T2=(40,50,60)"
      ],
      "metadata": {
        "id": "C-i7r4HN7Xfv"
      },
      "execution_count": null,
      "outputs": []
    },
    {
      "cell_type": "markdown",
      "source": [
        "a. Concatenate the two tuples and store it in “t_combine”"
      ],
      "metadata": {
        "id": "PRH4wYsw7n1A"
      }
    },
    {
      "cell_type": "code",
      "source": [
        "t_combine=T1+T2\n",
        "print(\"t_combine=\",t_combine)"
      ],
      "metadata": {
        "colab": {
          "base_uri": "https://localhost:8080/"
        },
        "id": "vCbrjTtW7st_",
        "outputId": "55c7a8a8-b94e-4027-ce6d-c4485b4976a3"
      },
      "execution_count": null,
      "outputs": [
        {
          "output_type": "stream",
          "name": "stdout",
          "text": [
            "t_combine= (10, 20, 30, 40, 50, 60)\n"
          ]
        }
      ]
    },
    {
      "cell_type": "markdown",
      "source": [
        "b. Repeat the elements of “t_combine” 3 times"
      ],
      "metadata": {
        "id": "o-gdkq0E8ujV"
      }
    },
    {
      "cell_type": "code",
      "source": [
        "t_repeated = t_combine * 3\n",
        "print(\"Repeated Tuple:\", t_repeated)"
      ],
      "metadata": {
        "colab": {
          "base_uri": "https://localhost:8080/"
        },
        "id": "oKMRA1VU82TC",
        "outputId": "eb55a0ed-5d45-41ab-9db6-ff54ae61c222"
      },
      "execution_count": null,
      "outputs": [
        {
          "output_type": "stream",
          "name": "stdout",
          "text": [
            "Repeated Tuple: (10, 20, 30, 40, 50, 60, 10, 20, 30, 40, 50, 60, 10, 20, 30, 40, 50, 60)\n"
          ]
        }
      ]
    },
    {
      "cell_type": "markdown",
      "source": [
        "c. Access the 3rd element from “t_combine”"
      ],
      "metadata": {
        "id": "MT2Hye-U8587"
      }
    },
    {
      "cell_type": "code",
      "source": [
        "third_element = t_combine[2]\n",
        "print(\"3rd Element:\", third_element)"
      ],
      "metadata": {
        "colab": {
          "base_uri": "https://localhost:8080/"
        },
        "id": "sbFYsnVU8_d_",
        "outputId": "e19aa1cd-1d4b-4327-d9d8-b31e7c7a4bb1"
      },
      "execution_count": null,
      "outputs": [
        {
          "output_type": "stream",
          "name": "stdout",
          "text": [
            "3rd Element: 30\n"
          ]
        }
      ]
    },
    {
      "cell_type": "markdown",
      "source": [
        "d. Access the first three elements from “t_combine”"
      ],
      "metadata": {
        "id": "hksgwZGR9JrF"
      }
    },
    {
      "cell_type": "code",
      "source": [
        "first_three=t_combine[:3]\n",
        "print(\"First three elements:\",first_three)"
      ],
      "metadata": {
        "colab": {
          "base_uri": "https://localhost:8080/"
        },
        "id": "EHcLAgia9OOX",
        "outputId": "032f4683-cbe6-440b-d630-6c1022440bf8"
      },
      "execution_count": null,
      "outputs": [
        {
          "output_type": "stream",
          "name": "stdout",
          "text": [
            "First three elements: (10, 20, 30)\n"
          ]
        }
      ]
    },
    {
      "cell_type": "markdown",
      "source": [
        "e. Access the last three elements from “t_combine”"
      ],
      "metadata": {
        "id": "dvSBZ09i9kya"
      }
    },
    {
      "cell_type": "code",
      "source": [
        "last_three=t_combine[3:]\n",
        "print(\"Last three elements:\",last_three)"
      ],
      "metadata": {
        "colab": {
          "base_uri": "https://localhost:8080/"
        },
        "id": "rjYJtcou9oeA",
        "outputId": "a47b477b-acb1-4f95-d8d4-4ad0f59bff37"
      },
      "execution_count": null,
      "outputs": [
        {
          "output_type": "stream",
          "name": "stdout",
          "text": [
            "Last three elements: (40, 50, 60)\n"
          ]
        }
      ]
    }
  ]
}