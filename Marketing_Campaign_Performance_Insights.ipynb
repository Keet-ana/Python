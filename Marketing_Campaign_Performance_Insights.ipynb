{
  "nbformat": 4,
  "nbformat_minor": 0,
  "metadata": {
    "colab": {
      "provenance": [],
      "authorship_tag": "ABX9TyP6F7eQyRI/K5K+VUKa+3bX"
    },
    "kernelspec": {
      "name": "python3",
      "display_name": "Python 3"
    },
    "language_info": {
      "name": "python"
    }
  },
  "cells": [
    {
      "cell_type": "markdown",
      "source": [
        "# Marketing Campaign Performance Insights\n",
        "\n",
        "***Short Description:***\n",
        "\n",
        "This project analyzes digital marketing campaigns by comparing ROI, conversion rates, and acquisition costs across channels, segments, and time. Identifies key trends and insights to optimize future strategies.\n",
        "\n"
      ],
      "metadata": {
        "id": "59nJG0K3fkCE"
      }
    },
    {
      "cell_type": "markdown",
      "source": [
        "Step 0: **Import Libraries**\n",
        "\n",
        "*   Pandas\n",
        "*   numpy\n",
        "*   matplotlib.pyplot\n",
        "*   seaborn\n",
        "*   datetime\n",
        "\n",
        "Step 1: **Load the Dataset**\n",
        "\n",
        "*   Read CSV using pd.read_csv()\n",
        "*   Preview data with df.head()\n",
        "\n",
        "Step 2: **Explore the Data**\n",
        "\n",
        "*   Check shape → df.shape\n",
        "*   Check data types and nulls → df.info()\n",
        "*   View summary statistics → df.describe()\n",
        "*   Check unique values and counts in key columns\n",
        "\n",
        "Step 3: **Clean the Data**\n",
        "\n",
        "*   Handle missing values → dropna() or fillna()\n",
        "*   Convert 'Date' to datetime format (if needed)\n",
        "*   Remove duplicates → drop_duplicates()\n",
        "\n",
        "Step 4: **Exploratory Data Analysis (EDA)**\n",
        "\n",
        "*   Visualize relationships (scatter, bar, box, line, pie)\n",
        "*   Compare Conversion Rate, ROI, Engagement, Channels, Audience, etc.\n",
        "\n",
        "Step 5: **Extract Insights**\n",
        "\n",
        "*   Identify top-performing campaigns, channels, and segments\n",
        "*   Highlight trends and opportunities\n",
        "\n",
        "Step 6: **Share Results**\n",
        "\n",
        "*   Create report or presentation\n",
        "*   Optionally build a dashboard\n",
        "\n",
        "\n"
      ],
      "metadata": {
        "id": "ot5aIbA7kSFW"
      }
    },
    {
      "cell_type": "markdown",
      "source": [
        "# Importing the libraries required\n",
        "\n",
        "***pip install pandas matplotlib seaborn***\n",
        "\n",
        "These are the libraries which are we going to use in this project. Since I am using \"Google Collab\" all these libraries are pre-installed. So I am just importing the libraries."
      ],
      "metadata": {
        "id": "tL2o4nufepK_"
      }
    },
    {
      "cell_type": "markdown",
      "source": [
        "**Pandas** -- This library helps on while we working with tabluar data\n",
        "\n",
        "*   To load from a .csv file\n",
        "*   To view and filter rows/columns\n",
        "*   To check nulls, summaries, Unique values and so on.\n",
        "\n",
        "---\n",
        "\n",
        "**Numpy** -- This library helps in calculating\n",
        "\n",
        "*  To handle arrays, missing values or numerical transformations.\n"
      ],
      "metadata": {
        "id": "imaXih143xYD"
      }
    },
    {
      "cell_type": "code",
      "execution_count": 1,
      "metadata": {
        "id": "j8ucusYs2Qpy"
      },
      "outputs": [],
      "source": [
        "import pandas as pd\n",
        "import numpy as np"
      ]
    },
    {
      "cell_type": "markdown",
      "source": [
        "**Matplotlib.pyplot** --> this library is the base library for charts like bar, line scatter, pie and it controls\n",
        "*   Figure size\n",
        "*   Figure labels\n",
        "*   Figure titles\n",
        "\n",
        "---\n",
        "**Seaborn** -- This library used for data visualization.\n",
        "*  Makes charts beautiful and easier to create (box plots, heatmaps, etc)\n",
        "\n"
      ],
      "metadata": {
        "id": "GVYvq_NZ3yLz"
      }
    },
    {
      "cell_type": "code",
      "source": [
        "import matplotlib.pyplot as plt\n",
        "import seaborn as sns\n",
        "from datetime import datetime\n",
        "%matplotlib inline\n",
        "sns.set_theme(style=\"darkgrid\", palette=\"pastel\", font_scale=1.1)\n",
        "plt.rcParams[\"figure.figsize\"] = (10, 6)"
      ],
      "metadata": {
        "id": "x1gwCDa33ytE"
      },
      "execution_count": 2,
      "outputs": []
    }
  ]
}